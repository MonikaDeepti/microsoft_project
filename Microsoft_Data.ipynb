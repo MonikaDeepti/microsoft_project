{
 "cells": [
  {
   "cell_type": "code",
   "execution_count": 10,
   "metadata": {},
   "outputs": [
    {
     "data": {
      "text/html": [
       "<div>\n",
       "<style scoped>\n",
       "    .dataframe tbody tr th:only-of-type {\n",
       "        vertical-align: middle;\n",
       "    }\n",
       "\n",
       "    .dataframe tbody tr th {\n",
       "        vertical-align: top;\n",
       "    }\n",
       "\n",
       "    .dataframe thead th {\n",
       "        text-align: right;\n",
       "    }\n",
       "</style>\n",
       "<table border=\"1\" class=\"dataframe\">\n",
       "  <thead>\n",
       "    <tr style=\"text-align: right;\">\n",
       "      <th></th>\n",
       "      <th>Column_Name</th>\n",
       "      <th>Missing_Values_Count</th>\n",
       "      <th>Missing_Values_Percentage</th>\n",
       "    </tr>\n",
       "  </thead>\n",
       "  <tbody>\n",
       "    <tr>\n",
       "      <td>PuaMode</td>\n",
       "      <td>PuaMode</td>\n",
       "      <td>56737</td>\n",
       "      <td>99.966523</td>\n",
       "    </tr>\n",
       "    <tr>\n",
       "      <td>Census_ProcessorClass</td>\n",
       "      <td>Census_ProcessorClass</td>\n",
       "      <td>56514</td>\n",
       "      <td>99.573613</td>\n",
       "    </tr>\n",
       "    <tr>\n",
       "      <td>DefaultBrowsersIdentifier</td>\n",
       "      <td>DefaultBrowsersIdentifier</td>\n",
       "      <td>53983</td>\n",
       "      <td>95.114173</td>\n",
       "    </tr>\n",
       "    <tr>\n",
       "      <td>Census_IsFlightingInternal</td>\n",
       "      <td>Census_IsFlightingInternal</td>\n",
       "      <td>47190</td>\n",
       "      <td>83.145394</td>\n",
       "    </tr>\n",
       "    <tr>\n",
       "      <td>Census_InternalBatteryType</td>\n",
       "      <td>Census_InternalBatteryType</td>\n",
       "      <td>40429</td>\n",
       "      <td>71.232997</td>\n",
       "    </tr>\n",
       "    <tr>\n",
       "      <td>...</td>\n",
       "      <td>...</td>\n",
       "      <td>...</td>\n",
       "      <td>...</td>\n",
       "    </tr>\n",
       "    <tr>\n",
       "      <td>Census_PowerPlatformRoleName</td>\n",
       "      <td>Census_PowerPlatformRoleName</td>\n",
       "      <td>0</td>\n",
       "      <td>0.000000</td>\n",
       "    </tr>\n",
       "    <tr>\n",
       "      <td>Census_OSVersion</td>\n",
       "      <td>Census_OSVersion</td>\n",
       "      <td>0</td>\n",
       "      <td>0.000000</td>\n",
       "    </tr>\n",
       "    <tr>\n",
       "      <td>Census_OSArchitecture</td>\n",
       "      <td>Census_OSArchitecture</td>\n",
       "      <td>0</td>\n",
       "      <td>0.000000</td>\n",
       "    </tr>\n",
       "    <tr>\n",
       "      <td>Census_OSBranch</td>\n",
       "      <td>Census_OSBranch</td>\n",
       "      <td>0</td>\n",
       "      <td>0.000000</td>\n",
       "    </tr>\n",
       "    <tr>\n",
       "      <td>MachineIdentifier</td>\n",
       "      <td>MachineIdentifier</td>\n",
       "      <td>0</td>\n",
       "      <td>0.000000</td>\n",
       "    </tr>\n",
       "  </tbody>\n",
       "</table>\n",
       "<p>82 rows × 3 columns</p>\n",
       "</div>"
      ],
      "text/plain": [
       "                                               Column_Name  \\\n",
       "PuaMode                                            PuaMode   \n",
       "Census_ProcessorClass                Census_ProcessorClass   \n",
       "DefaultBrowsersIdentifier        DefaultBrowsersIdentifier   \n",
       "Census_IsFlightingInternal      Census_IsFlightingInternal   \n",
       "Census_InternalBatteryType      Census_InternalBatteryType   \n",
       "...                                                    ...   \n",
       "Census_PowerPlatformRoleName  Census_PowerPlatformRoleName   \n",
       "Census_OSVersion                          Census_OSVersion   \n",
       "Census_OSArchitecture                Census_OSArchitecture   \n",
       "Census_OSBranch                            Census_OSBranch   \n",
       "MachineIdentifier                        MachineIdentifier   \n",
       "\n",
       "                              Missing_Values_Count  Missing_Values_Percentage  \n",
       "PuaMode                                      56737                  99.966523  \n",
       "Census_ProcessorClass                        56514                  99.573613  \n",
       "DefaultBrowsersIdentifier                    53983                  95.114173  \n",
       "Census_IsFlightingInternal                   47190                  83.145394  \n",
       "Census_InternalBatteryType                   40429                  71.232997  \n",
       "...                                            ...                        ...  \n",
       "Census_PowerPlatformRoleName                     0                   0.000000  \n",
       "Census_OSVersion                                 0                   0.000000  \n",
       "Census_OSArchitecture                            0                   0.000000  \n",
       "Census_OSBranch                                  0                   0.000000  \n",
       "MachineIdentifier                                0                   0.000000  \n",
       "\n",
       "[82 rows x 3 columns]"
      ]
     },
     "execution_count": 10,
     "metadata": {},
     "output_type": "execute_result"
    }
   ],
   "source": [
    "import pandas as pd\n",
    "import warnings \n",
    "warnings.filterwarnings('ignore')# to avoid warnings\n",
    "import matplotlib.pyplot as plt\n",
    "import seaborn as sns\n",
    "import random\n",
    "import os\n",
    "Microsoft_Data=pd.read_csv('Microsoft_Data.csv')\n",
    "y=Microsoft_Data['HasDetections']\n",
    "Microsoft_Data.drop(columns='HasDetections',inplace=True)\n",
    "#code to get missing values\n",
    "missing_value_percentage_df=pd.DataFrame({'Column_Name':Microsoft_Data.columns,\n",
    "                                         'Missing_Values_Count':Microsoft_Data.isnull().sum(),\n",
    "                                         'Missing_Values_Percentage':Microsoft_Data.isnull().sum()/Microsoft_Data.shape[0]*100\n",
    "                                         })\n",
    "\n",
    "\n",
    "\n",
    "missing_value_percentage_df=missing_value_percentage_df.sort_values(by='Missing_Values_Percentage',ascending=False)\n",
    "missing_value_percentage_df\n",
    "\n",
    "\n"
   ]
  },
  {
   "cell_type": "code",
   "execution_count": 11,
   "metadata": {},
   "outputs": [
    {
     "data": {
      "text/plain": [
       "(56756, 71)"
      ]
     },
     "execution_count": 11,
     "metadata": {},
     "output_type": "execute_result"
    }
   ],
   "source": [
    "cols_to_drop=[]\n",
    "\n",
    "cols_with_missing_values_grt_50=list(missing_value_percentage_df[missing_value_percentage_df['Missing_Values_Percentage']>50].index)\n",
    "\n",
    "for col in Microsoft_Data.columns:\n",
    "    if Microsoft_Data[col].nunique()==Microsoft_Data.shape[0] or Microsoft_Data[col].nunique()==1:\n",
    "        cols_to_drop.append(col)\n",
    "        \n",
    "columns_to_drop=cols_to_drop+cols_with_missing_values_grt_50\n",
    "\n",
    "Microsoft_Data.drop(columns=columns_to_drop,inplace=True)\n",
    "\n",
    "Microsoft_Data.shape"
   ]
  },
  {
   "cell_type": "code",
   "execution_count": 12,
   "metadata": {},
   "outputs": [
    {
     "data": {
      "text/plain": [
       "dtype('float64')"
      ]
     },
     "execution_count": 12,
     "metadata": {},
     "output_type": "execute_result"
    }
   ],
   "source": [
    "for col in Microsoft_Data.columns:\n",
    "    if col!='Census_SystemVolumeTotalCapacity':\n",
    "        Microsoft_Data[col]=Microsoft_Data[col].astype(object)\n",
    "        \n",
    "Microsoft_Data['Census_SystemVolumeTotalCapacity'].dtype"
   ]
  },
  {
   "cell_type": "code",
   "execution_count": 13,
   "metadata": {},
   "outputs": [
    {
     "data": {
      "text/plain": [
       "ProductName                                object\n",
       "EngineVersion                              object\n",
       "AppVersion                                 object\n",
       "AvSigVersion                               object\n",
       "RtpStateBitfield                           object\n",
       "                                            ...  \n",
       "Census_IsTouchEnabled                      object\n",
       "Census_IsPenCapable                        object\n",
       "Census_IsAlwaysOnAlwaysConnectedCapable    object\n",
       "Wdft_IsGamer                               object\n",
       "Wdft_RegionIdentifier                      object\n",
       "Length: 71, dtype: object"
      ]
     },
     "execution_count": 13,
     "metadata": {},
     "output_type": "execute_result"
    }
   ],
   "source": [
    "from sklearn.model_selection import train_test_split\n",
    "x_train,x_test,y_train,y_test=train_test_split(Microsoft_Data,y,test_size=0.3,random_state=43)\n",
    "\n",
    "#Filling missing values\n",
    "\n",
    "for col in x_train.columns:\n",
    "    if x_train[col].dtype=='object':\n",
    "        x_train[col]=x_train[col].fillna(x_train[col].mode()[0]).astype(object)\n",
    "        x_test[col]=x_test[col].fillna(x_train[col].mode()[0]).astype(object)\n",
    "        \n",
    "    else:\n",
    "        x_train[col]=x_train[col].fillna(x_train[col].mean())\n",
    "        x_test[col]=x_test[col].fillna(x_train[col].mean())\n",
    "x_train.dtypes"
   ]
  },
  {
   "cell_type": "code",
   "execution_count": 14,
   "metadata": {},
   "outputs": [],
   "source": [
    "#label encoding section,this is for categorical variables \n",
    "class LabelEncoderExt(object):\n",
    "    def __init__(self):\n",
    "        \"\"\"\n",
    "        It differs from LabelEncoder by handling new classes and providing a value for it [Unknown]\n",
    "        Unknown will be added in fit and transform will take care of new item. It gives unknown class id\n",
    "        \"\"\"\n",
    "        self.label_encoder = LabelEncoder()\n",
    "        # self.classes_ = self.label_encoder.classes_\n",
    "\n",
    "    def fit(self, data_list):\n",
    "        \"\"\"\n",
    "        This will fit the encoder for all the unique values and introduce unknown value\n",
    "        :param data_list: A list of string\n",
    "        :return: self\n",
    "        \"\"\"\n",
    "        self.label_encoder = self.label_encoder.fit(list(data_list) + ['Unknown'])\n",
    "        self.classes_ = self.label_encoder.classes_\n",
    "\n",
    "        return self\n",
    "\n",
    "    def transform(self, data_list):\n",
    "        \"\"\"\n",
    "        This will transform the data_list to id list where the new values get assigned to Unknown class\n",
    "        :param data_list:\n",
    "        :return:\n",
    "        \"\"\"\n",
    "        new_data_list = list(data_list)\n",
    "        for unique_item in np.unique(data_list):\n",
    "            if unique_item not in self.label_encoder.classes_:\n",
    "                new_data_list = ['Unknown' if x==unique_item else x for x in new_data_list]\n",
    "\n",
    "        return self.label_encoder.transform(new_data_list)"
   ]
  },
  {
   "cell_type": "code",
   "execution_count": 15,
   "metadata": {},
   "outputs": [],
   "source": [
    "from sklearn.preprocessing import LabelEncoder\n",
    "import numpy as np\n",
    "\n",
    "le=LabelEncoderExt()\n",
    "\n",
    "for col in x_train.columns:\n",
    "    if x_train[col].dtype=='object':\n",
    "        le.fit(x_train[col])\n",
    "        x_train[col]=le.transform(x_train[col])\n",
    "        x_test[col]=le.transform(x_test[col])\n",
    "\n"
   ]
  },
  {
   "cell_type": "code",
   "execution_count": 16,
   "metadata": {},
   "outputs": [
    {
     "data": {
      "text/plain": [
       "array([2, 3, 1, 0, 4, 5], dtype=int64)"
      ]
     },
     "execution_count": 16,
     "metadata": {},
     "output_type": "execute_result"
    }
   ],
   "source": [
    "from sklearn.preprocessing import LabelEncoder\n",
    "\n",
    "le=LabelEncoderExt()\n",
    "\n",
    "train_city=['Hyderabad','Bangalore','Bangalore','Chennai','Agra','Hyderabad','Jaipur']\n",
    "\n",
    "test_city=['Chennai','Hyderabad','Bangalore','Agra','Jaipur','Mumbai']\n",
    "\n",
    "\n",
    "le.fit(train_city)#fit is used for train data\n",
    "\n",
    "le.transform(test_city)#transform is used for test data\n",
    "\n"
   ]
  },
  {
   "cell_type": "code",
   "execution_count": 17,
   "metadata": {},
   "outputs": [],
   "source": [
    "from sklearn.linear_model import LogisticRegression#this is derived from sklearn library \n",
    "\n",
    "logreg=LogisticRegression()\n",
    "\n",
    "logreg.fit(x_train,y_train)\n",
    "\n",
    "y_pred=logreg.predict(x_test)"
   ]
  },
  {
   "cell_type": "code",
   "execution_count": 18,
   "metadata": {},
   "outputs": [
    {
     "data": {
      "text/plain": [
       "0.5434481095097389"
      ]
     },
     "execution_count": 18,
     "metadata": {},
     "output_type": "execute_result"
    }
   ],
   "source": [
    "comparisons_df=pd.DataFrame({'Actuals':y_test,'Predictions':y_pred})\n",
    "\n",
    "from sklearn.metrics import confusion_matrix,precision_score,recall_score,f1_score,roc_curve,roc_auc_score\n",
    "\n",
    "confusion_matrix(y_test,y_pred)\n",
    "\n",
    "recall_score(y_test,y_pred)\n",
    "precision_score(y_test,y_pred)\n",
    "\n",
    "f1_score(y_test,y_pred)\n"
   ]
  },
  {
   "cell_type": "code",
   "execution_count": 19,
   "metadata": {},
   "outputs": [
    {
     "data": {
      "image/png": "[encoded data removed]",
      "text/plain": [
       "<Figure size 432x288 with 1 Axes>"
      ]
     },
     "metadata": {
      "needs_background": "light"
     },
     "output_type": "display_data"
    }
   ],
   "source": [
    "y_pred_proba = logreg.predict_proba(x_test)[::,1]\n",
    "\n",
    "\n",
    "y_pred_proba\n",
    "\n",
    "fpr,tpr,thresholds=roc_curve(y_test,y_pred_proba) # the function roc_curve returns three values, the False Positive Rate,True Positive rate\n",
    "                                                # threshold values it used to calculate the TPR and FPR\n",
    "\n",
    "auc = roc_auc_score(y_test, y_pred_proba)\n",
    "\n",
    "plt.plot(fpr,tpr,label=\"auc=\"+str(auc))              \n",
    "plt.xlabel('False Positive Rate')\n",
    "plt.ylabel('True Positive Rate')\n",
    "plt.title('AUC-ROC Curve')\n",
    "\n",
    "plt.legend(loc=5)\n",
    "plt.show()\n",
    "\n"
   ]
  },
  {
   "cell_type": "code",
   "execution_count": null,
   "metadata": {},
   "outputs": [],
   "source": []
  }
 ],
 "metadata": {
  "kernelspec": {
   "display_name": "Python 3",
   "language": "python",
   "name": "python3"
  },
  "language_info": {
   "codemirror_mode": {
    "name": "ipython",
    "version": 3
   },
   "file_extension": ".py",
   "mimetype": "text/x-python",
   "name": "python",
   "nbconvert_exporter": "python",
   "pygments_lexer": "ipython3",
   "version": "3.7.4"
  }
 },
 "nbformat": 4,
 "nbformat_minor": 2
}
